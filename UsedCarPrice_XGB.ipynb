{
  "nbformat": 4,
  "nbformat_minor": 0,
  "metadata": {
    "colab": {
      "provenance": []
    },
    "kernelspec": {
      "name": "python3",
      "display_name": "Python 3"
    },
    "language_info": {
      "name": "python"
    }
  },
  "cells": [
    {
      "cell_type": "code",
      "execution_count": 1,
      "metadata": {
        "colab": {
          "base_uri": "https://localhost:8080/"
        },
        "id": "aA4raiXbHOq1",
        "outputId": "90aede7a-d128-4713-f96c-8f5201feea55"
      },
      "outputs": [
        {
          "output_type": "stream",
          "name": "stdout",
          "text": [
            "Requirement already satisfied: pandas in /usr/local/lib/python3.10/dist-packages (2.2.2)\n",
            "Requirement already satisfied: numpy in /usr/local/lib/python3.10/dist-packages (1.26.4)\n",
            "Requirement already satisfied: matplotlib in /usr/local/lib/python3.10/dist-packages (3.8.0)\n",
            "Requirement already satisfied: seaborn in /usr/local/lib/python3.10/dist-packages (0.13.2)\n",
            "Requirement already satisfied: scikit-learn in /usr/local/lib/python3.10/dist-packages (1.5.2)\n",
            "Requirement already satisfied: xgboost in /usr/local/lib/python3.10/dist-packages (2.1.2)\n",
            "Requirement already satisfied: lightgbm in /usr/local/lib/python3.10/dist-packages (4.5.0)\n",
            "Collecting catboost\n",
            "  Downloading catboost-1.2.7-cp310-cp310-manylinux2014_x86_64.whl.metadata (1.2 kB)\n",
            "Requirement already satisfied: python-dateutil>=2.8.2 in /usr/local/lib/python3.10/dist-packages (from pandas) (2.8.2)\n",
            "Requirement already satisfied: pytz>=2020.1 in /usr/local/lib/python3.10/dist-packages (from pandas) (2024.2)\n",
            "Requirement already satisfied: tzdata>=2022.7 in /usr/local/lib/python3.10/dist-packages (from pandas) (2024.2)\n",
            "Requirement already satisfied: contourpy>=1.0.1 in /usr/local/lib/python3.10/dist-packages (from matplotlib) (1.3.1)\n",
            "Requirement already satisfied: cycler>=0.10 in /usr/local/lib/python3.10/dist-packages (from matplotlib) (0.12.1)\n",
            "Requirement already satisfied: fonttools>=4.22.0 in /usr/local/lib/python3.10/dist-packages (from matplotlib) (4.55.0)\n",
            "Requirement already satisfied: kiwisolver>=1.0.1 in /usr/local/lib/python3.10/dist-packages (from matplotlib) (1.4.7)\n",
            "Requirement already satisfied: packaging>=20.0 in /usr/local/lib/python3.10/dist-packages (from matplotlib) (24.2)\n",
            "Requirement already satisfied: pillow>=6.2.0 in /usr/local/lib/python3.10/dist-packages (from matplotlib) (11.0.0)\n",
            "Requirement already satisfied: pyparsing>=2.3.1 in /usr/local/lib/python3.10/dist-packages (from matplotlib) (3.2.0)\n",
            "Requirement already satisfied: scipy>=1.6.0 in /usr/local/lib/python3.10/dist-packages (from scikit-learn) (1.13.1)\n",
            "Requirement already satisfied: joblib>=1.2.0 in /usr/local/lib/python3.10/dist-packages (from scikit-learn) (1.4.2)\n",
            "Requirement already satisfied: threadpoolctl>=3.1.0 in /usr/local/lib/python3.10/dist-packages (from scikit-learn) (3.5.0)\n",
            "Requirement already satisfied: nvidia-nccl-cu12 in /usr/local/lib/python3.10/dist-packages (from xgboost) (2.23.4)\n",
            "Requirement already satisfied: graphviz in /usr/local/lib/python3.10/dist-packages (from catboost) (0.20.3)\n",
            "Requirement already satisfied: plotly in /usr/local/lib/python3.10/dist-packages (from catboost) (5.24.1)\n",
            "Requirement already satisfied: six in /usr/local/lib/python3.10/dist-packages (from catboost) (1.16.0)\n",
            "Requirement already satisfied: tenacity>=6.2.0 in /usr/local/lib/python3.10/dist-packages (from plotly->catboost) (9.0.0)\n",
            "Downloading catboost-1.2.7-cp310-cp310-manylinux2014_x86_64.whl (98.7 MB)\n",
            "\u001b[2K   \u001b[90m━━━━━━━━━━━━━━━━━━━━━━━━━━━━━━━━━━━━━━━━\u001b[0m \u001b[32m98.7/98.7 MB\u001b[0m \u001b[31m6.1 MB/s\u001b[0m eta \u001b[36m0:00:00\u001b[0m\n",
            "\u001b[?25hInstalling collected packages: catboost\n",
            "Successfully installed catboost-1.2.7\n"
          ]
        }
      ],
      "source": [
        "# @title Downloading necessary libraries\n",
        "!pip install pandas numpy matplotlib seaborn scikit-learn xgboost lightgbm catboost"
      ]
    },
    {
      "cell_type": "markdown",
      "source": [
        "# Price prediction for used cars\n",
        "\n",
        "Welcome to the Kaggle competition for Playground Series - S4E9. In this notebook, we will walk through the end-to-end process of solving this competition. The steps include:\n",
        "\n",
        "1. Understanding the problem and dataset.\n",
        "2. Exploratory Data Analysis (EDA).\n",
        "3. Data Preprocessing.\n",
        "4. Model Training.\n",
        "5. Hyperparameter Tuning.\n",
        "6. Generating Predictions.\n",
        "7. Submitting the results.\n",
        "\n",
        "Let's get started!"
      ],
      "metadata": {
        "id": "cuEBoV5v3L8d"
      }
    },
    {
      "cell_type": "markdown",
      "source": [
        "## Problem Statement\n",
        "\n",
        "The goal of this competition is to build a predictive model based on the provided dataset to optimize the performance metric. Key details include:\n",
        "\n",
        "- **Train Dataset:** Contains features and target variable for training the model.\n",
        "- **Test Dataset:** Contains only features for making predictions.\n",
        "- **Submission Format:** A CSV file with predictions for the test data.\n",
        "\n",
        "Our aim is to explore the data, preprocess it effectively, and build a model that performs well on the competition's evaluation metric.\n"
      ],
      "metadata": {
        "id": "nczHUuFd3W10"
      }
    },
    {
      "cell_type": "markdown",
      "source": [
        "## **Load and Understand the Data**\n",
        "\n",
        "In this step:\n",
        "1. **Import dataset using kaggle.json and competition name**\n",
        "2. **Load the training and test datasets** using `pandas`.\n",
        "3. Display the basic structure of the datasets:\n",
        "   - The number of rows and columns in each dataset.\n",
        "   - The first few rows of the datasets to understand the format and types of features.\n",
        "4. Check the target variable (if present) and assess its characteristics, such as class balance."
      ],
      "metadata": {
        "id": "7-nx3-myH1lt"
      }
    },
    {
      "cell_type": "code",
      "source": [
        "# @title Import Data\n",
        "#import data\n",
        "from google.colab import files\n",
        "files.upload()\n",
        "\n",
        "# get json file\n",
        "!mkdir -p ~/.kaggle\n",
        "!cp kaggle.json ~/.kaggle/\n",
        "!chmod 600 ~/.kaggle/kaggle.json\n",
        "\n",
        "# copy data file\n",
        "!kaggle competitions download -c playground-series-s4e9\n",
        "!unzip -q playground-series-s4e9.zip -d data"
      ],
      "metadata": {
        "colab": {
          "base_uri": "https://localhost:8080/",
          "height": 125
        },
        "id": "Fgd5SNsMIqaZ",
        "outputId": "b8ccc108-af09-4593-f125-ad557cc89060"
      },
      "execution_count": 2,
      "outputs": [
        {
          "output_type": "display_data",
          "data": {
            "text/plain": [
              "<IPython.core.display.HTML object>"
            ],
            "text/html": [
              "\n",
              "     <input type=\"file\" id=\"files-5dfeda10-9e7d-4bee-a73a-7addeb095c54\" name=\"files[]\" multiple disabled\n",
              "        style=\"border:none\" />\n",
              "     <output id=\"result-5dfeda10-9e7d-4bee-a73a-7addeb095c54\">\n",
              "      Upload widget is only available when the cell has been executed in the\n",
              "      current browser session. Please rerun this cell to enable.\n",
              "      </output>\n",
              "      <script>// Copyright 2017 Google LLC\n",
              "//\n",
              "// Licensed under the Apache License, Version 2.0 (the \"License\");\n",
              "// you may not use this file except in compliance with the License.\n",
              "// You may obtain a copy of the License at\n",
              "//\n",
              "//      http://www.apache.org/licenses/LICENSE-2.0\n",
              "//\n",
              "// Unless required by applicable law or agreed to in writing, software\n",
              "// distributed under the License is distributed on an \"AS IS\" BASIS,\n",
              "// WITHOUT WARRANTIES OR CONDITIONS OF ANY KIND, either express or implied.\n",
              "// See the License for the specific language governing permissions and\n",
              "// limitations under the License.\n",
              "\n",
              "/**\n",
              " * @fileoverview Helpers for google.colab Python module.\n",
              " */\n",
              "(function(scope) {\n",
              "function span(text, styleAttributes = {}) {\n",
              "  const element = document.createElement('span');\n",
              "  element.textContent = text;\n",
              "  for (const key of Object.keys(styleAttributes)) {\n",
              "    element.style[key] = styleAttributes[key];\n",
              "  }\n",
              "  return element;\n",
              "}\n",
              "\n",
              "// Max number of bytes which will be uploaded at a time.\n",
              "const MAX_PAYLOAD_SIZE = 100 * 1024;\n",
              "\n",
              "function _uploadFiles(inputId, outputId) {\n",
              "  const steps = uploadFilesStep(inputId, outputId);\n",
              "  const outputElement = document.getElementById(outputId);\n",
              "  // Cache steps on the outputElement to make it available for the next call\n",
              "  // to uploadFilesContinue from Python.\n",
              "  outputElement.steps = steps;\n",
              "\n",
              "  return _uploadFilesContinue(outputId);\n",
              "}\n",
              "\n",
              "// This is roughly an async generator (not supported in the browser yet),\n",
              "// where there are multiple asynchronous steps and the Python side is going\n",
              "// to poll for completion of each step.\n",
              "// This uses a Promise to block the python side on completion of each step,\n",
              "// then passes the result of the previous step as the input to the next step.\n",
              "function _uploadFilesContinue(outputId) {\n",
              "  const outputElement = document.getElementById(outputId);\n",
              "  const steps = outputElement.steps;\n",
              "\n",
              "  const next = steps.next(outputElement.lastPromiseValue);\n",
              "  return Promise.resolve(next.value.promise).then((value) => {\n",
              "    // Cache the last promise value to make it available to the next\n",
              "    // step of the generator.\n",
              "    outputElement.lastPromiseValue = value;\n",
              "    return next.value.response;\n",
              "  });\n",
              "}\n",
              "\n",
              "/**\n",
              " * Generator function which is called between each async step of the upload\n",
              " * process.\n",
              " * @param {string} inputId Element ID of the input file picker element.\n",
              " * @param {string} outputId Element ID of the output display.\n",
              " * @return {!Iterable<!Object>} Iterable of next steps.\n",
              " */\n",
              "function* uploadFilesStep(inputId, outputId) {\n",
              "  const inputElement = document.getElementById(inputId);\n",
              "  inputElement.disabled = false;\n",
              "\n",
              "  const outputElement = document.getElementById(outputId);\n",
              "  outputElement.innerHTML = '';\n",
              "\n",
              "  const pickedPromise = new Promise((resolve) => {\n",
              "    inputElement.addEventListener('change', (e) => {\n",
              "      resolve(e.target.files);\n",
              "    });\n",
              "  });\n",
              "\n",
              "  const cancel = document.createElement('button');\n",
              "  inputElement.parentElement.appendChild(cancel);\n",
              "  cancel.textContent = 'Cancel upload';\n",
              "  const cancelPromise = new Promise((resolve) => {\n",
              "    cancel.onclick = () => {\n",
              "      resolve(null);\n",
              "    };\n",
              "  });\n",
              "\n",
              "  // Wait for the user to pick the files.\n",
              "  const files = yield {\n",
              "    promise: Promise.race([pickedPromise, cancelPromise]),\n",
              "    response: {\n",
              "      action: 'starting',\n",
              "    }\n",
              "  };\n",
              "\n",
              "  cancel.remove();\n",
              "\n",
              "  // Disable the input element since further picks are not allowed.\n",
              "  inputElement.disabled = true;\n",
              "\n",
              "  if (!files) {\n",
              "    return {\n",
              "      response: {\n",
              "        action: 'complete',\n",
              "      }\n",
              "    };\n",
              "  }\n",
              "\n",
              "  for (const file of files) {\n",
              "    const li = document.createElement('li');\n",
              "    li.append(span(file.name, {fontWeight: 'bold'}));\n",
              "    li.append(span(\n",
              "        `(${file.type || 'n/a'}) - ${file.size} bytes, ` +\n",
              "        `last modified: ${\n",
              "            file.lastModifiedDate ? file.lastModifiedDate.toLocaleDateString() :\n",
              "                                    'n/a'} - `));\n",
              "    const percent = span('0% done');\n",
              "    li.appendChild(percent);\n",
              "\n",
              "    outputElement.appendChild(li);\n",
              "\n",
              "    const fileDataPromise = new Promise((resolve) => {\n",
              "      const reader = new FileReader();\n",
              "      reader.onload = (e) => {\n",
              "        resolve(e.target.result);\n",
              "      };\n",
              "      reader.readAsArrayBuffer(file);\n",
              "    });\n",
              "    // Wait for the data to be ready.\n",
              "    let fileData = yield {\n",
              "      promise: fileDataPromise,\n",
              "      response: {\n",
              "        action: 'continue',\n",
              "      }\n",
              "    };\n",
              "\n",
              "    // Use a chunked sending to avoid message size limits. See b/62115660.\n",
              "    let position = 0;\n",
              "    do {\n",
              "      const length = Math.min(fileData.byteLength - position, MAX_PAYLOAD_SIZE);\n",
              "      const chunk = new Uint8Array(fileData, position, length);\n",
              "      position += length;\n",
              "\n",
              "      const base64 = btoa(String.fromCharCode.apply(null, chunk));\n",
              "      yield {\n",
              "        response: {\n",
              "          action: 'append',\n",
              "          file: file.name,\n",
              "          data: base64,\n",
              "        },\n",
              "      };\n",
              "\n",
              "      let percentDone = fileData.byteLength === 0 ?\n",
              "          100 :\n",
              "          Math.round((position / fileData.byteLength) * 100);\n",
              "      percent.textContent = `${percentDone}% done`;\n",
              "\n",
              "    } while (position < fileData.byteLength);\n",
              "  }\n",
              "\n",
              "  // All done.\n",
              "  yield {\n",
              "    response: {\n",
              "      action: 'complete',\n",
              "    }\n",
              "  };\n",
              "}\n",
              "\n",
              "scope.google = scope.google || {};\n",
              "scope.google.colab = scope.google.colab || {};\n",
              "scope.google.colab._files = {\n",
              "  _uploadFiles,\n",
              "  _uploadFilesContinue,\n",
              "};\n",
              "})(self);\n",
              "</script> "
            ]
          },
          "metadata": {}
        },
        {
          "output_type": "stream",
          "name": "stdout",
          "text": [
            "Saving kaggle.json to kaggle.json\n",
            "Downloading playground-series-s4e9.zip to /content\n",
            " 64% 5.00M/7.84M [00:00<00:00, 40.2MB/s]\n",
            "100% 7.84M/7.84M [00:00<00:00, 46.0MB/s]\n"
          ]
        }
      ]
    },
    {
      "cell_type": "code",
      "source": [
        "# @title Load the data\n",
        "import pandas as pd\n",
        "train = pd.read_csv(\"data/train.csv\")\n",
        "test = pd.read_csv(\"data/test.csv\")"
      ],
      "metadata": {
        "id": "ZsxnkfbgHa77"
      },
      "execution_count": 3,
      "outputs": []
    },
    {
      "cell_type": "code",
      "source": [
        "# @title Check the data\n",
        "print(train.head())\n",
        "print(train.info())\n",
        "print(train.describe())"
      ],
      "metadata": {
        "colab": {
          "base_uri": "https://localhost:8080/"
        },
        "id": "zMvCMz5nH7B5",
        "outputId": "d8321273-a15f-444e-d159-1ff5839208d7"
      },
      "execution_count": 4,
      "outputs": [
        {
          "output_type": "stream",
          "name": "stdout",
          "text": [
            "   id          brand              model  model_year  milage      fuel_type  \\\n",
            "0   0           MINI      Cooper S Base        2007  213000       Gasoline   \n",
            "1   1        Lincoln              LS V8        2002  143250       Gasoline   \n",
            "2   2      Chevrolet  Silverado 2500 LT        2002  136731  E85 Flex Fuel   \n",
            "3   3        Genesis   G90 5.0 Ultimate        2017   19500       Gasoline   \n",
            "4   4  Mercedes-Benz        Metris Base        2021    7388       Gasoline   \n",
            "\n",
            "                                              engine  \\\n",
            "0       172.0HP 1.6L 4 Cylinder Engine Gasoline Fuel   \n",
            "1       252.0HP 3.9L 8 Cylinder Engine Gasoline Fuel   \n",
            "2  320.0HP 5.3L 8 Cylinder Engine Flex Fuel Capab...   \n",
            "3       420.0HP 5.0L 8 Cylinder Engine Gasoline Fuel   \n",
            "4       208.0HP 2.0L 4 Cylinder Engine Gasoline Fuel   \n",
            "\n",
            "                     transmission ext_col int_col  \\\n",
            "0                             A/T  Yellow    Gray   \n",
            "1                             A/T  Silver   Beige   \n",
            "2                             A/T    Blue    Gray   \n",
            "3  Transmission w/Dual Shift Mode   Black   Black   \n",
            "4                     7-Speed A/T   Black   Beige   \n",
            "\n",
            "                                 accident clean_title  price  \n",
            "0                           None reported         Yes   4200  \n",
            "1  At least 1 accident or damage reported         Yes   4999  \n",
            "2                           None reported         Yes  13900  \n",
            "3                           None reported         Yes  45000  \n",
            "4                           None reported         Yes  97500  \n",
            "<class 'pandas.core.frame.DataFrame'>\n",
            "RangeIndex: 188533 entries, 0 to 188532\n",
            "Data columns (total 13 columns):\n",
            " #   Column        Non-Null Count   Dtype \n",
            "---  ------        --------------   ----- \n",
            " 0   id            188533 non-null  int64 \n",
            " 1   brand         188533 non-null  object\n",
            " 2   model         188533 non-null  object\n",
            " 3   model_year    188533 non-null  int64 \n",
            " 4   milage        188533 non-null  int64 \n",
            " 5   fuel_type     183450 non-null  object\n",
            " 6   engine        188533 non-null  object\n",
            " 7   transmission  188533 non-null  object\n",
            " 8   ext_col       188533 non-null  object\n",
            " 9   int_col       188533 non-null  object\n",
            " 10  accident      186081 non-null  object\n",
            " 11  clean_title   167114 non-null  object\n",
            " 12  price         188533 non-null  int64 \n",
            "dtypes: int64(4), object(9)\n",
            "memory usage: 18.7+ MB\n",
            "None\n",
            "                  id     model_year         milage         price\n",
            "count  188533.000000  188533.000000  188533.000000  1.885330e+05\n",
            "mean    94266.000000    2015.829998   65705.295174  4.387802e+04\n",
            "std     54424.933488       5.660967   49798.158076  7.881952e+04\n",
            "min         0.000000    1974.000000     100.000000  2.000000e+03\n",
            "25%     47133.000000    2013.000000   24115.000000  1.700000e+04\n",
            "50%     94266.000000    2017.000000   57785.000000  3.082500e+04\n",
            "75%    141399.000000    2020.000000   95400.000000  4.990000e+04\n",
            "max    188532.000000    2024.000000  405000.000000  2.954083e+06\n"
          ]
        }
      ]
    },
    {
      "cell_type": "code",
      "source": [
        "# @title check for shape and null values in test and train dataset\n",
        "# Shape of the datasets\n",
        "print(\"\\nShape of Train Dataset:\", train.shape)\n",
        "print(\"Shape of Test Dataset:\", test.shape)\n",
        "\n",
        "# Check for missing values\n",
        "print(\"\\nMissing Values in Train Dataset:\")\n",
        "print(train.isnull().sum())\n",
        "\n",
        "print(\"\\nMissing Values in Test Dataset:\")\n",
        "print(test.isnull().sum())"
      ],
      "metadata": {
        "colab": {
          "base_uri": "https://localhost:8080/"
        },
        "id": "cmP4iHGdJuj8",
        "outputId": "ba523143-8607-4ada-d2cd-db402ee0eab8"
      },
      "execution_count": 5,
      "outputs": [
        {
          "output_type": "stream",
          "name": "stdout",
          "text": [
            "\n",
            "Shape of Train Dataset: (188533, 13)\n",
            "Shape of Test Dataset: (125690, 12)\n",
            "\n",
            "Missing Values in Train Dataset:\n",
            "id                  0\n",
            "brand               0\n",
            "model               0\n",
            "model_year          0\n",
            "milage              0\n",
            "fuel_type        5083\n",
            "engine              0\n",
            "transmission        0\n",
            "ext_col             0\n",
            "int_col             0\n",
            "accident         2452\n",
            "clean_title     21419\n",
            "price               0\n",
            "dtype: int64\n",
            "\n",
            "Missing Values in Test Dataset:\n",
            "id                  0\n",
            "brand               0\n",
            "model               0\n",
            "model_year          0\n",
            "milage              0\n",
            "fuel_type        3383\n",
            "engine              0\n",
            "transmission        0\n",
            "ext_col             0\n",
            "int_col             0\n",
            "accident         1632\n",
            "clean_title     14239\n",
            "dtype: int64\n"
          ]
        }
      ]
    },
    {
      "cell_type": "code",
      "source": [
        "print(\"Summary Statistics for Numerical Features in Train Dataset:\")\n",
        "print(train.describe())"
      ],
      "metadata": {
        "colab": {
          "base_uri": "https://localhost:8080/"
        },
        "id": "pSIgLa8fKCBK",
        "outputId": "83475c7c-5446-4247-bee6-7788f9c9282d"
      },
      "execution_count": 6,
      "outputs": [
        {
          "output_type": "stream",
          "name": "stdout",
          "text": [
            "Summary Statistics for Numerical Features in Train Dataset:\n",
            "                  id     model_year         milage         price\n",
            "count  188533.000000  188533.000000  188533.000000  1.885330e+05\n",
            "mean    94266.000000    2015.829998   65705.295174  4.387802e+04\n",
            "std     54424.933488       5.660967   49798.158076  7.881952e+04\n",
            "min         0.000000    1974.000000     100.000000  2.000000e+03\n",
            "25%     47133.000000    2013.000000   24115.000000  1.700000e+04\n",
            "50%     94266.000000    2017.000000   57785.000000  3.082500e+04\n",
            "75%    141399.000000    2020.000000   95400.000000  4.990000e+04\n",
            "max    188532.000000    2024.000000  405000.000000  2.954083e+06\n"
          ]
        }
      ]
    },
    {
      "cell_type": "code",
      "source": [
        "test.info()"
      ],
      "metadata": {
        "colab": {
          "base_uri": "https://localhost:8080/"
        },
        "id": "IJMFpQzVLomZ",
        "outputId": "b319a189-e204-4a84-cdc6-d8d51972e0d3"
      },
      "execution_count": 7,
      "outputs": [
        {
          "output_type": "stream",
          "name": "stdout",
          "text": [
            "<class 'pandas.core.frame.DataFrame'>\n",
            "RangeIndex: 125690 entries, 0 to 125689\n",
            "Data columns (total 12 columns):\n",
            " #   Column        Non-Null Count   Dtype \n",
            "---  ------        --------------   ----- \n",
            " 0   id            125690 non-null  int64 \n",
            " 1   brand         125690 non-null  object\n",
            " 2   model         125690 non-null  object\n",
            " 3   model_year    125690 non-null  int64 \n",
            " 4   milage        125690 non-null  int64 \n",
            " 5   fuel_type     122307 non-null  object\n",
            " 6   engine        125690 non-null  object\n",
            " 7   transmission  125690 non-null  object\n",
            " 8   ext_col       125690 non-null  object\n",
            " 9   int_col       125690 non-null  object\n",
            " 10  accident      124058 non-null  object\n",
            " 11  clean_title   111451 non-null  object\n",
            "dtypes: int64(3), object(9)\n",
            "memory usage: 11.5+ MB\n"
          ]
        }
      ]
    },
    {
      "cell_type": "markdown",
      "source": [
        "## Step 3: Data Preprocessing\n",
        "\n",
        "Data preprocessing involves preparing the data for modeling. Key steps include:\n",
        "\n",
        "1. Handling missing values:\n",
        "   - Imputing with mean/median for numerical columns.\n",
        "   - Filling with mode or 'Unknown' for categorical columns.\n",
        "   \n",
        "2. Encoding categorical features:\n",
        "   - Using Label Encoding for ordinal features.\n",
        "   - Applying One-Hot Encoding for nominal features.\n",
        "\n",
        "3. Scaling numerical features:\n",
        "   - Standardizing or normalizing numerical columns to improve model performance.\n",
        "\n",
        "4. Splitting data:\n",
        "   - Splitting the dataset into training and validation sets for model evaluation.\n"
      ],
      "metadata": {
        "id": "A--cEscv3mwY"
      }
    },
    {
      "cell_type": "code",
      "source": [
        "# @title Convert datatype from object to string for column engine\n",
        "train['engine'] = train['engine'].astype('string')\n",
        "test['engine'] = test['engine'].astype('string')\n"
      ],
      "metadata": {
        "id": "SHznM2MnMA0U"
      },
      "execution_count": 8,
      "outputs": []
    },
    {
      "cell_type": "code",
      "source": [
        "# @title Convert datatype from object to string for column ext_col and int_col\n",
        "train['ext_col'] = train['ext_col'].astype('string')\n",
        "test['ext_col'] = test['ext_col'].astype('string')\n",
        "train['int_col'] = train['int_col'].astype('string')\n",
        "test['int_col'] = test['int_col'].astype('string')"
      ],
      "metadata": {
        "id": "Tl6Fj2abSRm7"
      },
      "execution_count": 9,
      "outputs": []
    },
    {
      "cell_type": "code",
      "source": [
        "# @title Convert datatype from object to string for column brand and model\n",
        "train['brand'] = train['brand'].astype('string')\n",
        "test['brand'] = test['brand'].astype('string')\n",
        "train['model'] = train['model'].astype('string')\n",
        "test['model'] = test['model'].astype('string')"
      ],
      "metadata": {
        "id": "dVNq_gm_TxJ8"
      },
      "execution_count": 10,
      "outputs": []
    },
    {
      "cell_type": "code",
      "source": [
        "# @title Convert datatype from object to string for column fuel_type\n",
        "from sklearn.preprocessing import LabelEncoder\n",
        "col_to_encode = ['fuel_type', 'accident', 'clean_title']\n",
        "for col in col_to_encode:\n",
        "    le = LabelEncoder()\n",
        "    train[col] = le.fit_transform(train[col])\n",
        "    test[col] = le.transform(test[col])"
      ],
      "metadata": {
        "id": "Hy9TPR3UTCRa"
      },
      "execution_count": 11,
      "outputs": []
    },
    {
      "cell_type": "code",
      "source": [
        "# @title Convert transmission column datatype to string\n",
        "train['transmission'] = train['transmission'].astype('string')\n",
        "test['transmission'] = test['transmission'].astype('string')"
      ],
      "metadata": {
        "id": "wV7bH0ECWf-_"
      },
      "execution_count": 12,
      "outputs": []
    },
    {
      "cell_type": "markdown",
      "source": [
        "## Step 2: Exploratory Data Analysis (EDA)\n",
        "\n",
        "EDA helps us understand the dataset, its features, and their relationships with the target variable. Key steps include:\n",
        "\n",
        "1. Viewing the data structure (columns, types, missing values).\n",
        "2. Checking the distribution of the target variable.\n",
        "3. Analyzing numerical and categorical features.\n",
        "4. Identifying correlations between features.\n",
        "5. Visualizing relationships to extract insights.\n",
        "\n",
        "By the end of this step, we'll have a clear idea of the dataset's characteristics."
      ],
      "metadata": {
        "id": "AH77wCMY3hRe"
      }
    },
    {
      "cell_type": "code",
      "source": [
        "# @title Distribution of price feature\n",
        "import pandas as pd\n",
        "import numpy as np\n",
        "import matplotlib.pyplot as plt\n",
        "import seaborn as sns\n",
        "# Count the price feature distribution\n",
        "print(\"price Variable Distribution:\")\n",
        "print(train[\"price\"].value_counts())\n",
        "plt.figure(figsize=(8, 5))\n",
        "sns.countplot(x=\"price\", data=train)\n",
        "plt.title(\"Price Distribution\")\n",
        "plt.show()"
      ],
      "metadata": {
        "colab": {
          "base_uri": "https://localhost:8080/",
          "height": 730
        },
        "id": "tFyKj6r4KI0-",
        "outputId": "39412323-dc7c-40dd-8b81-e81f57e01d8a"
      },
      "execution_count": 13,
      "outputs": [
        {
          "output_type": "stream",
          "name": "stdout",
          "text": [
            "price Variable Distribution:\n",
            "price\n",
            "15000     1920\n",
            "12000     1459\n",
            "30000     1280\n",
            "29000     1228\n",
            "8500      1204\n",
            "          ... \n",
            "239991      22\n",
            "269991      22\n",
            "259991      21\n",
            "107998      20\n",
            "45998       19\n",
            "Name: count, Length: 1569, dtype: int64\n"
          ]
        },
        {
          "output_type": "display_data",
          "data": {
            "text/plain": [
              "<Figure size 800x500 with 1 Axes>"
            ],
            "image/png": "[encoded data removed]"
          },
          "metadata": {}
        }
      ]
    },
    {
      "source": [
        "# @title correlation heatmap\n",
        "# Correlation heatmap for numerical features\n",
        "plt.figure(figsize=(12, 8))\n",
        "# Select only numerical features for correlation calculation\n",
        "numerical_features = train.select_dtypes(include=np.number).columns\n",
        "corr_matrix = train[numerical_features].corr()\n",
        "sns.heatmap(corr_matrix, annot=True, fmt=\".2f\", cmap=\"coolwarm\")\n",
        "plt.title(\"Correlation Heatmap\")\n",
        "plt.show()"
      ],
      "cell_type": "code",
      "metadata": {
        "colab": {
          "base_uri": "https://localhost:8080/",
          "height": 699
        },
        "id": "7AidnMPmW-jO",
        "outputId": "fc2b1794-2aa8-43a6-9138-b7d160abb862"
      },
      "execution_count": 14,
      "outputs": [
        {
          "output_type": "display_data",
          "data": {
            "text/plain": [
              "<Figure size 1200x800 with 2 Axes>"
            ],
            "image/png": "[encoded data removed]"
          },
          "metadata": {}
        }
      ]
    },
    {
      "cell_type": "code",
      "source": [
        "# @title Split the training data between training and validation dataset\n",
        "from sklearn.model_selection import train_test_split\n",
        "# Identify string columns\n",
        "string_cols = train.select_dtypes(include=['object', 'string']).columns\n",
        "# Drop string columns from train and store that into X\n",
        "X = train.drop(columns=string_cols)\n",
        "# drop price column\n",
        "X = X.drop(\"price\", axis=1)\n",
        "y = train[\"price\"]\n",
        "X_train, X_valid, y_train, y_valid = train_test_split(X, y, test_size=0.2, random_state=42)\n"
      ],
      "metadata": {
        "id": "G0L61185H_R8"
      },
      "execution_count": 23,
      "outputs": []
    },
    {
      "cell_type": "markdown",
      "source": [
        "## Step 4: Model Training\n",
        "\n",
        "In this step, we'll train multiple machine learning models to predict the target variable. Steps include:\n",
        "\n",
        "1. Splitting the data into training and validation sets.\n",
        "2. Selecting baseline models such as Logistic Regression, Decision Trees, or Random Forests.\n",
        "3. Evaluating the performance of models using metrics such as accuracy or AUC-ROC.\n",
        "4. Choosing advanced models like XGBoost, LightGBM, or CatBoost to optimize performance."
      ],
      "metadata": {
        "id": "1WVKW70t3sX4"
      }
    },
    {
      "source": [
        "# @title Model training\n",
        "from xgboost import XGBRegressor # Change to XGBRegressor for regression tasks\n",
        "model = XGBRegressor()\n",
        "model.fit(X_train, y_train)"
      ],
      "cell_type": "code",
      "metadata": {
        "colab": {
          "base_uri": "https://localhost:8080/",
          "height": 253
        },
        "id": "-nnSR0EQXal9",
        "outputId": "54792d5b-604d-4830-eb56-afbe481c5ebd"
      },
      "execution_count": 24,
      "outputs": [
        {
          "output_type": "execute_result",
          "data": {
            "text/plain": [
              "XGBRegressor(base_score=None, booster=None, callbacks=None,\n",
              "             colsample_bylevel=None, colsample_bynode=None,\n",
              "             colsample_bytree=None, device=None, early_stopping_rounds=None,\n",
              "             enable_categorical=False, eval_metric=None, feature_types=None,\n",
              "             gamma=None, grow_policy=None, importance_type=None,\n",
              "             interaction_constraints=None, learning_rate=None, max_bin=None,\n",
              "             max_cat_threshold=None, max_cat_to_onehot=None,\n",
              "             max_delta_step=None, max_depth=None, max_leaves=None,\n",
              "             min_child_weight=None, missing=nan, monotone_constraints=None,\n",
              "             multi_strategy=None, n_estimators=None, n_jobs=None,\n",
              "             num_parallel_tree=None, random_state=None, ...)"
            ],
            "text/html": [
              "<style>#sk-container-id-3 {\n",
              "  /* Definition of color scheme common for light and dark mode */\n",
              "  --sklearn-color-text: black;\n",
              "  --sklearn-color-line: gray;\n",
              "  /* Definition of color scheme for unfitted estimators */\n",
              "  --sklearn-color-unfitted-level-0: #fff5e6;\n",
              "  --sklearn-color-unfitted-level-1: #f6e4d2;\n",
              "  --sklearn-color-unfitted-level-2: #ffe0b3;\n",
              "  --sklearn-color-unfitted-level-3: chocolate;\n",
              "  /* Definition of color scheme for fitted estimators */\n",
              "  --sklearn-color-fitted-level-0: #f0f8ff;\n",
              "  --sklearn-color-fitted-level-1: #d4ebff;\n",
              "  --sklearn-color-fitted-level-2: #b3dbfd;\n",
              "  --sklearn-color-fitted-level-3: cornflowerblue;\n",
              "\n",
              "  /* Specific color for light theme */\n",
              "  --sklearn-color-text-on-default-background: var(--sg-text-color, var(--theme-code-foreground, var(--jp-content-font-color1, black)));\n",
              "  --sklearn-color-background: var(--sg-background-color, var(--theme-background, var(--jp-layout-color0, white)));\n",
              "  --sklearn-color-border-box: var(--sg-text-color, var(--theme-code-foreground, var(--jp-content-font-color1, black)));\n",
              "  --sklearn-color-icon: #696969;\n",
              "\n",
              "  @media (prefers-color-scheme: dark) {\n",
              "    /* Redefinition of color scheme for dark theme */\n",
              "    --sklearn-color-text-on-default-background: var(--sg-text-color, var(--theme-code-foreground, var(--jp-content-font-color1, white)));\n",
              "    --sklearn-color-background: var(--sg-background-color, var(--theme-background, var(--jp-layout-color0, #111)));\n",
              "    --sklearn-color-border-box: var(--sg-text-color, var(--theme-code-foreground, var(--jp-content-font-color1, white)));\n",
              "    --sklearn-color-icon: #878787;\n",
              "  }\n",
              "}\n",
              "\n",
              "#sk-container-id-3 {\n",
              "  color: var(--sklearn-color-text);\n",
              "}\n",
              "\n",
              "#sk-container-id-3 pre {\n",
              "  padding: 0;\n",
              "}\n",
              "\n",
              "#sk-container-id-3 input.sk-hidden--visually {\n",
              "  border: 0;\n",
              "  clip: rect(1px 1px 1px 1px);\n",
              "  clip: rect(1px, 1px, 1px, 1px);\n",
              "  height: 1px;\n",
              "  margin: -1px;\n",
              "  overflow: hidden;\n",
              "  padding: 0;\n",
              "  position: absolute;\n",
              "  width: 1px;\n",
              "}\n",
              "\n",
              "#sk-container-id-3 div.sk-dashed-wrapped {\n",
              "  border: 1px dashed var(--sklearn-color-line);\n",
              "  margin: 0 0.4em 0.5em 0.4em;\n",
              "  box-sizing: border-box;\n",
              "  padding-bottom: 0.4em;\n",
              "  background-color: var(--sklearn-color-background);\n",
              "}\n",
              "\n",
              "#sk-container-id-3 div.sk-container {\n",
              "  /* jupyter's `normalize.less` sets `[hidden] { display: none; }`\n",
              "     but bootstrap.min.css set `[hidden] { display: none !important; }`\n",
              "     so we also need the `!important` here to be able to override the\n",
              "     default hidden behavior on the sphinx rendered scikit-learn.org.\n",
              "     See: https://github.com/scikit-learn/scikit-learn/issues/21755 */\n",
              "  display: inline-block !important;\n",
              "  position: relative;\n",
              "}\n",
              "\n",
              "#sk-container-id-3 div.sk-text-repr-fallback {\n",
              "  display: none;\n",
              "}\n",
              "\n",
              "div.sk-parallel-item,\n",
              "div.sk-serial,\n",
              "div.sk-item {\n",
              "  /* draw centered vertical line to link estimators */\n",
              "  background-image: linear-gradient(var(--sklearn-color-text-on-default-background), var(--sklearn-color-text-on-default-background));\n",
              "  background-size: 2px 100%;\n",
              "  background-repeat: no-repeat;\n",
              "  background-position: center center;\n",
              "}\n",
              "\n",
              "/* Parallel-specific style estimator block */\n",
              "\n",
              "#sk-container-id-3 div.sk-parallel-item::after {\n",
              "  content: \"\";\n",
              "  width: 100%;\n",
              "  border-bottom: 2px solid var(--sklearn-color-text-on-default-background);\n",
              "  flex-grow: 1;\n",
              "}\n",
              "\n",
              "#sk-container-id-3 div.sk-parallel {\n",
              "  display: flex;\n",
              "  align-items: stretch;\n",
              "  justify-content: center;\n",
              "  background-color: var(--sklearn-color-background);\n",
              "  position: relative;\n",
              "}\n",
              "\n",
              "#sk-container-id-3 div.sk-parallel-item {\n",
              "  display: flex;\n",
              "  flex-direction: column;\n",
              "}\n",
              "\n",
              "#sk-container-id-3 div.sk-parallel-item:first-child::after {\n",
              "  align-self: flex-end;\n",
              "  width: 50%;\n",
              "}\n",
              "\n",
              "#sk-container-id-3 div.sk-parallel-item:last-child::after {\n",
              "  align-self: flex-start;\n",
              "  width: 50%;\n",
              "}\n",
              "\n",
              "#sk-container-id-3 div.sk-parallel-item:only-child::after {\n",
              "  width: 0;\n",
              "}\n",
              "\n",
              "/* Serial-specific style estimator block */\n",
              "\n",
              "#sk-container-id-3 div.sk-serial {\n",
              "  display: flex;\n",
              "  flex-direction: column;\n",
              "  align-items: center;\n",
              "  background-color: var(--sklearn-color-background);\n",
              "  padding-right: 1em;\n",
              "  padding-left: 1em;\n",
              "}\n",
              "\n",
              "\n",
              "/* Toggleable style: style used for estimator/Pipeline/ColumnTransformer box that is\n",
              "clickable and can be expanded/collapsed.\n",
              "- Pipeline and ColumnTransformer use this feature and define the default style\n",
              "- Estimators will overwrite some part of the style using the `sk-estimator` class\n",
              "*/\n",
              "\n",
              "/* Pipeline and ColumnTransformer style (default) */\n",
              "\n",
              "#sk-container-id-3 div.sk-toggleable {\n",
              "  /* Default theme specific background. It is overwritten whether we have a\n",
              "  specific estimator or a Pipeline/ColumnTransformer */\n",
              "  background-color: var(--sklearn-color-background);\n",
              "}\n",
              "\n",
              "/* Toggleable label */\n",
              "#sk-container-id-3 label.sk-toggleable__label {\n",
              "  cursor: pointer;\n",
              "  display: block;\n",
              "  width: 100%;\n",
              "  margin-bottom: 0;\n",
              "  padding: 0.5em;\n",
              "  box-sizing: border-box;\n",
              "  text-align: center;\n",
              "}\n",
              "\n",
              "#sk-container-id-3 label.sk-toggleable__label-arrow:before {\n",
              "  /* Arrow on the left of the label */\n",
              "  content: \"▸\";\n",
              "  float: left;\n",
              "  margin-right: 0.25em;\n",
              "  color: var(--sklearn-color-icon);\n",
              "}\n",
              "\n",
              "#sk-container-id-3 label.sk-toggleable__label-arrow:hover:before {\n",
              "  color: var(--sklearn-color-text);\n",
              "}\n",
              "\n",
              "/* Toggleable content - dropdown */\n",
              "\n",
              "#sk-container-id-3 div.sk-toggleable__content {\n",
              "  max-height: 0;\n",
              "  max-width: 0;\n",
              "  overflow: hidden;\n",
              "  text-align: left;\n",
              "  /* unfitted */\n",
              "  background-color: var(--sklearn-color-unfitted-level-0);\n",
              "}\n",
              "\n",
              "#sk-container-id-3 div.sk-toggleable__content.fitted {\n",
              "  /* fitted */\n",
              "  background-color: var(--sklearn-color-fitted-level-0);\n",
              "}\n",
              "\n",
              "#sk-container-id-3 div.sk-toggleable__content pre {\n",
              "  margin: 0.2em;\n",
              "  border-radius: 0.25em;\n",
              "  color: var(--sklearn-color-text);\n",
              "  /* unfitted */\n",
              "  background-color: var(--sklearn-color-unfitted-level-0);\n",
              "}\n",
              "\n",
              "#sk-container-id-3 div.sk-toggleable__content.fitted pre {\n",
              "  /* unfitted */\n",
              "  background-color: var(--sklearn-color-fitted-level-0);\n",
              "}\n",
              "\n",
              "#sk-container-id-3 input.sk-toggleable__control:checked~div.sk-toggleable__content {\n",
              "  /* Expand drop-down */\n",
              "  max-height: 200px;\n",
              "  max-width: 100%;\n",
              "  overflow: auto;\n",
              "}\n",
              "\n",
              "#sk-container-id-3 input.sk-toggleable__control:checked~label.sk-toggleable__label-arrow:before {\n",
              "  content: \"▾\";\n",
              "}\n",
              "\n",
              "/* Pipeline/ColumnTransformer-specific style */\n",
              "\n",
              "#sk-container-id-3 div.sk-label input.sk-toggleable__control:checked~label.sk-toggleable__label {\n",
              "  color: var(--sklearn-color-text);\n",
              "  background-color: var(--sklearn-color-unfitted-level-2);\n",
              "}\n",
              "\n",
              "#sk-container-id-3 div.sk-label.fitted input.sk-toggleable__control:checked~label.sk-toggleable__label {\n",
              "  background-color: var(--sklearn-color-fitted-level-2);\n",
              "}\n",
              "\n",
              "/* Estimator-specific style */\n",
              "\n",
              "/* Colorize estimator box */\n",
              "#sk-container-id-3 div.sk-estimator input.sk-toggleable__control:checked~label.sk-toggleable__label {\n",
              "  /* unfitted */\n",
              "  background-color: var(--sklearn-color-unfitted-level-2);\n",
              "}\n",
              "\n",
              "#sk-container-id-3 div.sk-estimator.fitted input.sk-toggleable__control:checked~label.sk-toggleable__label {\n",
              "  /* fitted */\n",
              "  background-color: var(--sklearn-color-fitted-level-2);\n",
              "}\n",
              "\n",
              "#sk-container-id-3 div.sk-label label.sk-toggleable__label,\n",
              "#sk-container-id-3 div.sk-label label {\n",
              "  /* The background is the default theme color */\n",
              "  color: var(--sklearn-color-text-on-default-background);\n",
              "}\n",
              "\n",
              "/* On hover, darken the color of the background */\n",
              "#sk-container-id-3 div.sk-label:hover label.sk-toggleable__label {\n",
              "  color: var(--sklearn-color-text);\n",
              "  background-color: var(--sklearn-color-unfitted-level-2);\n",
              "}\n",
              "\n",
              "/* Label box, darken color on hover, fitted */\n",
              "#sk-container-id-3 div.sk-label.fitted:hover label.sk-toggleable__label.fitted {\n",
              "  color: var(--sklearn-color-text);\n",
              "  background-color: var(--sklearn-color-fitted-level-2);\n",
              "}\n",
              "\n",
              "/* Estimator label */\n",
              "\n",
              "#sk-container-id-3 div.sk-label label {\n",
              "  font-family: monospace;\n",
              "  font-weight: bold;\n",
              "  display: inline-block;\n",
              "  line-height: 1.2em;\n",
              "}\n",
              "\n",
              "#sk-container-id-3 div.sk-label-container {\n",
              "  text-align: center;\n",
              "}\n",
              "\n",
              "/* Estimator-specific */\n",
              "#sk-container-id-3 div.sk-estimator {\n",
              "  font-family: monospace;\n",
              "  border: 1px dotted var(--sklearn-color-border-box);\n",
              "  border-radius: 0.25em;\n",
              "  box-sizing: border-box;\n",
              "  margin-bottom: 0.5em;\n",
              "  /* unfitted */\n",
              "  background-color: var(--sklearn-color-unfitted-level-0);\n",
              "}\n",
              "\n",
              "#sk-container-id-3 div.sk-estimator.fitted {\n",
              "  /* fitted */\n",
              "  background-color: var(--sklearn-color-fitted-level-0);\n",
              "}\n",
              "\n",
              "/* on hover */\n",
              "#sk-container-id-3 div.sk-estimator:hover {\n",
              "  /* unfitted */\n",
              "  background-color: var(--sklearn-color-unfitted-level-2);\n",
              "}\n",
              "\n",
              "#sk-container-id-3 div.sk-estimator.fitted:hover {\n",
              "  /* fitted */\n",
              "  background-color: var(--sklearn-color-fitted-level-2);\n",
              "}\n",
              "\n",
              "/* Specification for estimator info (e.g. \"i\" and \"?\") */\n",
              "\n",
              "/* Common style for \"i\" and \"?\" */\n",
              "\n",
              ".sk-estimator-doc-link,\n",
              "a:link.sk-estimator-doc-link,\n",
              "a:visited.sk-estimator-doc-link {\n",
              "  float: right;\n",
              "  font-size: smaller;\n",
              "  line-height: 1em;\n",
              "  font-family: monospace;\n",
              "  background-color: var(--sklearn-color-background);\n",
              "  border-radius: 1em;\n",
              "  height: 1em;\n",
              "  width: 1em;\n",
              "  text-decoration: none !important;\n",
              "  margin-left: 1ex;\n",
              "  /* unfitted */\n",
              "  border: var(--sklearn-color-unfitted-level-1) 1pt solid;\n",
              "  color: var(--sklearn-color-unfitted-level-1);\n",
              "}\n",
              "\n",
              ".sk-estimator-doc-link.fitted,\n",
              "a:link.sk-estimator-doc-link.fitted,\n",
              "a:visited.sk-estimator-doc-link.fitted {\n",
              "  /* fitted */\n",
              "  border: var(--sklearn-color-fitted-level-1) 1pt solid;\n",
              "  color: var(--sklearn-color-fitted-level-1);\n",
              "}\n",
              "\n",
              "/* On hover */\n",
              "div.sk-estimator:hover .sk-estimator-doc-link:hover,\n",
              ".sk-estimator-doc-link:hover,\n",
              "div.sk-label-container:hover .sk-estimator-doc-link:hover,\n",
              ".sk-estimator-doc-link:hover {\n",
              "  /* unfitted */\n",
              "  background-color: var(--sklearn-color-unfitted-level-3);\n",
              "  color: var(--sklearn-color-background);\n",
              "  text-decoration: none;\n",
              "}\n",
              "\n",
              "div.sk-estimator.fitted:hover .sk-estimator-doc-link.fitted:hover,\n",
              ".sk-estimator-doc-link.fitted:hover,\n",
              "div.sk-label-container:hover .sk-estimator-doc-link.fitted:hover,\n",
              ".sk-estimator-doc-link.fitted:hover {\n",
              "  /* fitted */\n",
              "  background-color: var(--sklearn-color-fitted-level-3);\n",
              "  color: var(--sklearn-color-background);\n",
              "  text-decoration: none;\n",
              "}\n",
              "\n",
              "/* Span, style for the box shown on hovering the info icon */\n",
              ".sk-estimator-doc-link span {\n",
              "  display: none;\n",
              "  z-index: 9999;\n",
              "  position: relative;\n",
              "  font-weight: normal;\n",
              "  right: .2ex;\n",
              "  padding: .5ex;\n",
              "  margin: .5ex;\n",
              "  width: min-content;\n",
              "  min-width: 20ex;\n",
              "  max-width: 50ex;\n",
              "  color: var(--sklearn-color-text);\n",
              "  box-shadow: 2pt 2pt 4pt #999;\n",
              "  /* unfitted */\n",
              "  background: var(--sklearn-color-unfitted-level-0);\n",
              "  border: .5pt solid var(--sklearn-color-unfitted-level-3);\n",
              "}\n",
              "\n",
              ".sk-estimator-doc-link.fitted span {\n",
              "  /* fitted */\n",
              "  background: var(--sklearn-color-fitted-level-0);\n",
              "  border: var(--sklearn-color-fitted-level-3);\n",
              "}\n",
              "\n",
              ".sk-estimator-doc-link:hover span {\n",
              "  display: block;\n",
              "}\n",
              "\n",
              "/* \"?\"-specific style due to the `<a>` HTML tag */\n",
              "\n",
              "#sk-container-id-3 a.estimator_doc_link {\n",
              "  float: right;\n",
              "  font-size: 1rem;\n",
              "  line-height: 1em;\n",
              "  font-family: monospace;\n",
              "  background-color: var(--sklearn-color-background);\n",
              "  border-radius: 1rem;\n",
              "  height: 1rem;\n",
              "  width: 1rem;\n",
              "  text-decoration: none;\n",
              "  /* unfitted */\n",
              "  color: var(--sklearn-color-unfitted-level-1);\n",
              "  border: var(--sklearn-color-unfitted-level-1) 1pt solid;\n",
              "}\n",
              "\n",
              "#sk-container-id-3 a.estimator_doc_link.fitted {\n",
              "  /* fitted */\n",
              "  border: var(--sklearn-color-fitted-level-1) 1pt solid;\n",
              "  color: var(--sklearn-color-fitted-level-1);\n",
              "}\n",
              "\n",
              "/* On hover */\n",
              "#sk-container-id-3 a.estimator_doc_link:hover {\n",
              "  /* unfitted */\n",
              "  background-color: var(--sklearn-color-unfitted-level-3);\n",
              "  color: var(--sklearn-color-background);\n",
              "  text-decoration: none;\n",
              "}\n",
              "\n",
              "#sk-container-id-3 a.estimator_doc_link.fitted:hover {\n",
              "  /* fitted */\n",
              "  background-color: var(--sklearn-color-fitted-level-3);\n",
              "}\n",
              "</style><div id=\"sk-container-id-3\" class=\"sk-top-container\"><div class=\"sk-text-repr-fallback\"><pre>XGBRegressor(base_score=None, booster=None, callbacks=None,\n",
              "             colsample_bylevel=None, colsample_bynode=None,\n",
              "             colsample_bytree=None, device=None, early_stopping_rounds=None,\n",
              "             enable_categorical=False, eval_metric=None, feature_types=None,\n",
              "             gamma=None, grow_policy=None, importance_type=None,\n",
              "             interaction_constraints=None, learning_rate=None, max_bin=None,\n",
              "             max_cat_threshold=None, max_cat_to_onehot=None,\n",
              "             max_delta_step=None, max_depth=None, max_leaves=None,\n",
              "             min_child_weight=None, missing=nan, monotone_constraints=None,\n",
              "             multi_strategy=None, n_estimators=None, n_jobs=None,\n",
              "             num_parallel_tree=None, random_state=None, ...)</pre><b>In a Jupyter environment, please rerun this cell to show the HTML representation or trust the notebook. <br />On GitHub, the HTML representation is unable to render, please try loading this page with nbviewer.org.</b></div><div class=\"sk-container\" hidden><div class=\"sk-item\"><div class=\"sk-estimator fitted sk-toggleable\"><input class=\"sk-toggleable__control sk-hidden--visually\" id=\"sk-estimator-id-3\" type=\"checkbox\" checked><label for=\"sk-estimator-id-3\" class=\"sk-toggleable__label fitted sk-toggleable__label-arrow fitted\">&nbsp;XGBRegressor<span class=\"sk-estimator-doc-link fitted\">i<span>Fitted</span></span></label><div class=\"sk-toggleable__content fitted\"><pre>XGBRegressor(base_score=None, booster=None, callbacks=None,\n",
              "             colsample_bylevel=None, colsample_bynode=None,\n",
              "             colsample_bytree=None, device=None, early_stopping_rounds=None,\n",
              "             enable_categorical=False, eval_metric=None, feature_types=None,\n",
              "             gamma=None, grow_policy=None, importance_type=None,\n",
              "             interaction_constraints=None, learning_rate=None, max_bin=None,\n",
              "             max_cat_threshold=None, max_cat_to_onehot=None,\n",
              "             max_delta_step=None, max_depth=None, max_leaves=None,\n",
              "             min_child_weight=None, missing=nan, monotone_constraints=None,\n",
              "             multi_strategy=None, n_estimators=None, n_jobs=None,\n",
              "             num_parallel_tree=None, random_state=None, ...)</pre></div> </div></div></div></div>"
            ]
          },
          "metadata": {},
          "execution_count": 24
        }
      ]
    },
    {
      "cell_type": "code",
      "source": [
        "# @title Model evaluation\n",
        "from sklearn.metrics import mean_squared_error, r2_score # Import regression metrics\n",
        "y_pred = model.predict(X_valid)\n",
        "# calculate regression metrics mse and r2\n",
        "mse = mean_squared_error(y_valid, y_pred)\n",
        "r2 = r2_score(y_valid, y_pred)\n",
        "\n",
        "print(\"Mean Squared Error:\", mse)\n",
        "print(\"R-squared:\", r2)\n"
      ],
      "metadata": {
        "colab": {
          "base_uri": "https://localhost:8080/"
        },
        "id": "JiJvT3zgISDE",
        "outputId": "2dafab5e-a82b-4df4-9da6-ab5d26020d7d"
      },
      "execution_count": 32,
      "outputs": [
        {
          "output_type": "stream",
          "name": "stdout",
          "text": [
            "Mean Squared Error: 5504743323.487425\n",
            "R-squared: 0.010140419006347656\n"
          ]
        }
      ]
    },
    {
      "cell_type": "code",
      "source": [
        "y_pred"
      ],
      "metadata": {
        "colab": {
          "base_uri": "https://localhost:8080/"
        },
        "id": "R1RiIl4ay1N4",
        "outputId": "0b09272a-d3bd-48cc-9bb5-5703aafca0ae"
      },
      "execution_count": 30,
      "outputs": [
        {
          "output_type": "execute_result",
          "data": {
            "text/plain": [
              "array([53157.54 , 35857.832, 38091.934, ..., 24602.623, 16975.852,\n",
              "       30775.049], dtype=float32)"
            ]
          },
          "metadata": {},
          "execution_count": 30
        }
      ]
    },
    {
      "cell_type": "markdown",
      "source": [
        "## Step 5: Hyperparameter Tuning\n",
        "\n",
        "Hyperparameter tuning involves finding the best parameters for the model to improve its performance. We'll:\n",
        "\n",
        "1. Use Grid Search or Random Search to explore a range of hyperparameter values.\n",
        "2. Implement Bayesian optimization using libraries like Optuna for efficient tuning.\n",
        "3. Evaluate the tuned model on validation data to ensure improvement."
      ],
      "metadata": {
        "id": "mw7DKZd73vux"
      }
    },
    {
      "cell_type": "code",
      "source": [
        "# @title Hyperparameter tuning\n",
        "from sklearn.model_selection import GridSearchCV\n",
        "param_grid = {\n",
        "    \"n_estimators\": [100, 200, 300],\n",
        "    \"learning_rate\": [0.01, 0.05, 0.1]\n",
        "}\n",
        "grid = GridSearchCV(estimator=model, param_grid=param_grid, cv=3)\n",
        "grid.fit(X_train, y_train)"
      ],
      "metadata": {
        "id": "58pfOF0MIXcJ"
      },
      "execution_count": null,
      "outputs": []
    },
    {
      "cell_type": "markdown",
      "source": [
        "## Step 6: Generating Predictions\n",
        "\n",
        "After finalizing the model, we'll use it to make predictions on the test dataset. Steps include:\n",
        "\n",
        "1. Loading the test dataset.\n",
        "2. Preprocessing the test data using the same steps as the training data.\n",
        "3. Generating predictions for the test dataset.\n",
        "4. Saving the predictions in the format specified by the competition."
      ],
      "metadata": {
        "id": "ZWpDLdz03zjQ"
      }
    },
    {
      "cell_type": "code",
      "source": [
        "# @title Result generation\n",
        "# Identify string columns\n",
        "string_cols = test.select_dtypes(include=['object', 'string']).columns\n",
        "# Drop string columns from test and use that to predict car price\n",
        "test_preds = model.predict(test.drop(columns=string_cols))\n",
        "submission = pd.DataFrame({\n",
        "    \"id\": test[\"id\"],  # Replace \"Id\" with the appropriate column\n",
        "    \"price\": test_preds  # Replace \"target\" with the actual target column\n",
        "})\n",
        "submission.to_csv(\"submission.csv\", index=False)\n"
      ],
      "metadata": {
        "id": "M5WNTl0m09n0"
      },
      "execution_count": 34,
      "outputs": []
    }
  ]
}